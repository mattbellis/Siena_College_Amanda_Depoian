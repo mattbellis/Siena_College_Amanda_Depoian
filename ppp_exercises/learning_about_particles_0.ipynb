{
 "metadata": {
  "name": ""
 },
 "nbformat": 3,
 "nbformat_minor": 0,
 "worksheets": [
  {
   "cells": [
    {
     "cell_type": "heading",
     "level": 2,
     "metadata": {},
     "source": [
      "Learning about particles and their properties."
     ]
    },
    {
     "cell_type": "markdown",
     "metadata": {},
     "source": [
      "<h3>Learning goals</h3>\n",
      "<ul>\n",
      "    <li>Relativistic kinematics.\n",
      "    <li>Standard model particles.\n",
      "    <li>Special Relativity.\n",
      "</ul>"
     ]
    },
    {
     "cell_type": "markdown",
     "metadata": {},
     "source": [
      "<b>Background</b>\n",
      "\n",
      "Every particle is unique. They each have different masses, lifetimes, decay methods and many other properties. \n",
      "\n",
      "To find the distance a particle travels in one lifetime, you need to know the lifetime of the particle and the speed of light. The formula to find the distance travelled in one lifetime is $ d= v*t. $ Where $v$ is the speed of light and $t$ is the lifetime of the particle. The speed of light is $3*10^8  m/s^2$. \n",
      "\n",
      "To find the distance travelled with different momenta you need to know, the particles momentum, mass, and lifetime. \n",
      "\n",
      "One concept in Einstein's special relativity is time dilation. This means moving clocks are measured to tick more slowly than an observer's \"stationary\" clock.  This concept needs to be kept in mind when solving for the distance travelled at high velocities. \n",
      "\n",
      "Some important equations you need to know are:\n",
      "\n",
      "$E = \\sqrt{(p*c)^2 + (m^2*c)^2}$\n",
      "\n",
      "$\\beta = \\frac{v}{c}$\n",
      "\n",
      "$\\frac{p}{E} = \\frac{\\beta}{c}$\n",
      "\n",
      "$\\gamma = \\frac{1}{\\sqrt{1-\\beta^2}}$\n",
      "\n",
      "$t = \\gamma*t_0$"
     ]
    },
    {
     "cell_type": "markdown",
     "metadata": {},
     "source": [
      "<b>Let's code!</b>\n",
      "\n",
      "Here is a sample code that creates a table of the life time and distance traveled in one lifetie for three different particles."
     ]
    },
    {
     "cell_type": "code",
     "collapsed": false,
     "input": [
      "particles = [\"B\",\"D\",\"J/Psi\"]\n",
      "\n",
      "lifetimes = [4,5,2]\n",
      "\n",
      "for p,l in zip(particles,lifetimes):\n",
      "    distance = 3e8*l\n",
      "    print \"%-5s lifetime=%f   distance=%f\" % (p,l,distance)"
     ],
     "language": "python",
     "metadata": {},
     "outputs": [
      {
       "output_type": "stream",
       "stream": "stdout",
       "text": [
        "B     lifetime=4.000000   distance=1200000000.000000\n",
        "D     lifetime=5.000000   distance=1500000000.000000\n",
        "J/Psi lifetime=2.000000   distance=600000000.000000\n"
       ]
      }
     ],
     "prompt_number": 33
    },
    {
     "cell_type": "markdown",
     "metadata": {},
     "source": [
      "<h3>Particles</h3>\n",
      "<ul>\n",
      "    <li>mu+/mu-\n",
      "    <li>tau+/tau-\n",
      "    <li>pi+/pi-\n",
      "    <li>pi0\n",
      "    <li>K+/K-\n",
      "    <li>K(short)\n",
      "    <li>K(long)\n",
      "    <li>D+/D-\n",
      "    <li>B+/B-\n",
      "    <li>B0\n",
      "    <li>J/Psi\n",
      "    <li>Upsilon(1S)\n",
      "</ul>"
     ]
    },
    {
     "cell_type": "markdown",
     "metadata": {},
     "source": [
      "<h2><font color=\"red\">Challenge!</font></h2>\n",
      "\n",
      "Finish the table for every particle listed above with an output of the particles name, the lifetime, the mass, the distance travelled in one lifetime, the momentum, and how far the travel in one lifetime given different momentum.  "
     ]
    },
    {
     "cell_type": "code",
     "collapsed": false,
     "input": [
      "particles = [\"B\",\"D\",\"J/Psi\"]\n",
      "lifetimes = [4,5,2]\n",
      "c = 3*(10**8)\n",
      "for p,l in zip(particles,lifetimes):\n",
      "    distance = c*l\n",
      "    print \"%-5s lifetime=%f   distance=%f\" % (p,l,distance)"
     ],
     "language": "python",
     "metadata": {},
     "outputs": [
      {
       "output_type": "stream",
       "stream": "stdout",
       "text": [
        "B     lifetime=4.000000   distance=1200000000.000000\n",
        "D     lifetime=5.000000   distance=1500000000.000000\n",
        "J/Psi lifetime=2.000000   distance=600000000.000000\n"
       ]
      }
     ],
     "prompt_number": 34
    },
    {
     "cell_type": "code",
     "collapsed": false,
     "input": [
      "#your code here\n",
      "import math\n",
      "particles = [\"mu+/mu-\",\"tau+/tau-\",\"pi+/pi-\",\"pi0\",\"K+/K-\",\"K(short)\",\"K(long)\",\"D+/D-\",\"B+/B-\",\"B0\",\"J/Psi\",\"Upsilon(1S)\"]\n",
      "lifetimes = [2.19*10**-6,2.91*10**-13,2.6*10**-8,8.4*10**-17,1.24*10**-8,8.95*10**-11,5.12*10**-8,1.04*10**-12,\n",
      "             1.64*10**-12,1.53*10**-12,7.2*10**-21,1.21*10**-20]\n",
      "mass = [0.10565,1.77682,0.13957,0.13497,0.49367,0.49761,0.49761,1.86962,5.27915,5.27953,3.09691,9.46030]\n",
      "c = 3*(10**8)\n",
      "for p,l,m in zip(particles,lifetimes,mass):\n",
      "    distance = c*l\n",
      "    momentum = [1,10,100,8000]\n",
      "    #P2 = 10\n",
      "    #P3 = 100\n",
      "    #P4 = 8000\n",
      "    for P in momentum:\n",
      "        E = math.sqrt((P**2) + (m**2))\n",
      "        v = (P/E)*c\n",
      "        B = P/E\n",
      "        G = 1/(math.sqrt(1-(B**2)))\n",
      "        d = v*l*G\n",
      "        print p, \"lifetime=\",l,\"s\",\"mass=\",m,\"GeV/c^2\",\"distance=\",distance,\"m\",\"P=\",P,\"GeV/c\",\"d=\",d,\"m\""
     ],
     "language": "python",
     "metadata": {},
     "outputs": [
      {
       "output_type": "stream",
       "stream": "stdout",
       "text": [
        "mu+/mu- lifetime= 2.19e-06 s mass= 0.10565 GeV/c^2 distance= 657.0 m P= 1 GeV/c d= 6218.64647421 m\n",
        "mu+/mu- lifetime= 2.19e-06 s mass= 0.10565 GeV/c^2 distance= 657.0 m P= 10 GeV/c d= 62186.4647421 m\n",
        "mu+/mu- lifetime= 2.19e-06 s mass= 0.10565 GeV/c^2 distance= 657.0 m P= 100 GeV/c d= 621864.647403 m\n",
        "mu+/mu- lifetime= 2.19e-06 s mass= 0.10565 GeV/c^2 distance= 657.0 m P= 8000 GeV/c d= 49749154.9709 m\n",
        "tau+/tau- lifetime= 2.91e-13 s mass= 1.77682 GeV/c^2 distance= 8.73e-05 m P= 1 GeV/c d= 4.9132720253e-05 m\n",
        "tau+/tau- lifetime= 2.91e-13 s mass= 1.77682 GeV/c^2 distance= 8.73e-05 m P= 10 GeV/c d= 0.00049132720253 m\n",
        "tau+/tau- lifetime= 2.91e-13 s mass= 1.77682 GeV/c^2 distance= 8.73e-05 m P= 100 GeV/c d= 0.0049132720253 m\n",
        "tau+/tau- lifetime= 2.91e-13 s mass= 1.77682 GeV/c^2 distance= 8.73e-05 m P= 8000 GeV/c d= 0.393061761769 m\n",
        "pi+/pi- lifetime= 2.6e-08 s mass= 0.13957 GeV/c^2 distance= 7.8 m P= 1 GeV/c d= 55.8859353729 m\n",
        "pi+/pi- lifetime= 2.6e-08 s mass= 0.13957 GeV/c^2 distance= 7.8 m P= 10 GeV/c d= 558.85935373 m\n",
        "pi+/pi- lifetime= 2.6e-08 s mass= 0.13957 GeV/c^2 distance= 7.8 m P= 100 GeV/c d= 5588.59353722 m\n",
        "pi+/pi- lifetime= 2.6e-08 s mass= 0.13957 GeV/c^2 distance= 7.8 m P= 8000 GeV/c d= 447087.646038 m\n",
        "pi0 lifetime= 8.4e-17 s mass= 0.13497 GeV/c^2 distance= 2.52e-08 m P= 1 GeV/c d= 1.86708157368e-07 m\n",
        "pi0 lifetime= 8.4e-17 s mass= 0.13497 GeV/c^2 distance= 2.52e-08 m P= 10 GeV/c d= 1.86708157368e-06 m\n",
        "pi0 lifetime= 8.4e-17 s mass= 0.13497 GeV/c^2 distance= 2.52e-08 m P= 100 GeV/c d= 1.86708157364e-05 m\n",
        "pi0 lifetime= 8.4e-17 s mass= 0.13497 GeV/c^2 distance= 2.52e-08 m P= 8000 GeV/c d= 0.00149366493198 m\n",
        "K+/K- lifetime= 1.24e-08 s mass= 0.49367 GeV/c^2 distance= 3.72 m P= 1 GeV/c d= 7.53539814046 m\n",
        "K+/K- lifetime= 1.24e-08 s mass= 0.49367 GeV/c^2 distance= 3.72 m P= 10 GeV/c d= 75.3539814046 m\n",
        "K+/K- lifetime= 1.24e-08 s mass= 0.49367 GeV/c^2 distance= 3.72 m P= 100 GeV/c d= 753.539814047 m\n",
        "K+/K- lifetime= 1.24e-08 s mass= 0.49367 GeV/c^2 distance= 3.72 m P= 8000 GeV/c d= 60283.1841159 m\n",
        "K(short) lifetime= 8.95e-11 s mass= 0.49761 GeV/c^2 distance= 0.02685 m P= 1 GeV/c d= 0.0539579188521 m\n",
        "K(short) lifetime= 8.95e-11 s mass= 0.49761 GeV/c^2 distance= 0.02685 m P= 10 GeV/c d= 0.539579188521 m\n",
        "K(short) lifetime= 8.95e-11 s mass= 0.49761 GeV/c^2 distance= 0.02685 m P= 100 GeV/c d= 5.39579188521 m\n",
        "K(short) lifetime= 8.95e-11 s mass= 0.49761 GeV/c^2 distance= 0.02685 m P= 8000 GeV/c d= 431.663358642 m\n",
        "K(long) lifetime= 5.12e-08 s mass= 0.49761 GeV/c^2 distance= 15.36 m P= 1 GeV/c d= 30.8675468741 m\n",
        "K(long) lifetime= 5.12e-08 s mass= 0.49761 GeV/c^2 distance= 15.36 m P= 10 GeV/c d= 308.675468741 m\n",
        "K(long) lifetime= 5.12e-08 s mass= 0.49761 GeV/c^2 distance= 15.36 m P= 100 GeV/c d= 3086.7546874 m\n",
        "K(long) lifetime= 5.12e-08 s mass= 0.49761 GeV/c^2 distance= 15.36 m P= 8000 GeV/c d= 246940.379469 m\n",
        "D+/D- lifetime= 1.04e-12 s mass= 1.86962 GeV/c^2 distance= 0.000312 m P= 1 GeV/c d= 0.000166878830992 m\n",
        "D+/D- lifetime= 1.04e-12 s mass= 1.86962 GeV/c^2 distance= 0.000312 m P= 10 GeV/c d= 0.00166878830992 m\n",
        "D+/D- lifetime= 1.04e-12 s mass= 1.86962 GeV/c^2 distance= 0.000312 m P= 100 GeV/c d= 0.0166878830992 m\n",
        "D+/D- lifetime= 1.04e-12 s mass= 1.86962 GeV/c^2 distance= 0.000312 m P= 8000 GeV/c d= 1.33503064708 m\n",
        "B+/B- lifetime= 1.64e-12 s mass= 5.27915 GeV/c^2 distance= 0.000492 m P= 1 GeV/c d= 9.3196821458e-05 m\n",
        "B+/B- lifetime= 1.64e-12 s mass= 5.27915 GeV/c^2 distance= 0.000492 m P= 10 GeV/c d= 0.00093196821458 m\n",
        "B+/B- lifetime= 1.64e-12 s mass= 5.27915 GeV/c^2 distance= 0.000492 m P= 100 GeV/c d= 0.0093196821458 m\n",
        "B+/B- lifetime= 1.64e-12 s mass= 5.27915 GeV/c^2 distance= 0.000492 m P= 8000 GeV/c d= 0.745574571698 m\n",
        "B0 lifetime= 1.53e-12 s mass= 5.27953 GeV/c^2 distance= 0.000459 m P= 1 GeV/c d= 8.69395571197e-05 m\n",
        "B0 lifetime= 1.53e-12 s mass= 5.27953 GeV/c^2 distance= 0.000459 m P= 10 GeV/c d= 0.000869395571197 m\n",
        "B0 lifetime= 1.53e-12 s mass= 5.27953 GeV/c^2 distance= 0.000459 m P= 100 GeV/c d= 0.00869395571197 m\n",
        "B0 lifetime= 1.53e-12 s mass= 5.27953 GeV/c^2 distance= 0.000459 m P= 8000 GeV/c d= 0.695516457017 m\n",
        "J/Psi lifetime= 7.2e-21 s mass= 3.09691 GeV/c^2 distance= 2.16e-12 m P= 1 GeV/c d= 6.9746941306e-13 m\n",
        "J/Psi lifetime= 7.2e-21 s mass= 3.09691 GeV/c^2 distance= 2.16e-12 m P= 10 GeV/c d= 6.9746941306e-12 m\n",
        "J/Psi lifetime= 7.2e-21 s mass= 3.09691 GeV/c^2 distance= 2.16e-12 m P= 100 GeV/c d= 6.9746941306e-11 m\n",
        "J/Psi lifetime= 7.2e-21 s mass= 3.09691 GeV/c^2 distance= 2.16e-12 m P= 8000 GeV/c d= 5.57975530612e-09 m\n",
        "Upsilon(1S) lifetime= 1.21e-20 s mass= 9.4603 GeV/c^2 distance= 3.63e-12 m P= 1 GeV/c d= 3.83708761879e-13 m\n",
        "Upsilon(1S) lifetime= 1.21e-20 s mass= 9.4603 GeV/c^2 distance= 3.63e-12 m P= 10 GeV/c d= 3.83708761879e-12 m\n",
        "Upsilon(1S) lifetime= 1.21e-20 s mass= 9.4603 GeV/c^2 distance= 3.63e-12 m P= 100 GeV/c d= 3.83708761879e-11 m\n",
        "Upsilon(1S) lifetime= 1.21e-20 s mass= 9.4603 GeV/c^2 distance= 3.63e-12 m P= 8000 GeV/c d= 3.0696700949e-09 m\n"
       ]
      }
     ],
     "prompt_number": 42
    },
    {
     "cell_type": "code",
     "collapsed": false,
     "input": [],
     "language": "python",
     "metadata": {},
     "outputs": []
    }
   ],
   "metadata": {}
  }
 ]
}