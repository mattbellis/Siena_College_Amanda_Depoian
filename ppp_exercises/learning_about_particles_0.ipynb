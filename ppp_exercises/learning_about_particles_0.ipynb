{
 "metadata": {
  "name": ""
 },
 "nbformat": 3,
 "nbformat_minor": 0,
 "worksheets": [
  {
   "cells": [
    {
     "cell_type": "heading",
     "level": 2,
     "metadata": {},
     "source": [
      "Learning about particles and their properties."
     ]
    },
    {
     "cell_type": "markdown",
     "metadata": {},
     "source": [
      "<h3>Learning goals</h3>\n",
      "<ul>\n",
      "    <li>Relativistic kinematics.\n",
      "    <li>Standard model particles.\n",
      "    <li>Special Relativity.\n",
      "</ul>"
     ]
    },
    {
     "cell_type": "markdown",
     "metadata": {},
     "source": [
      "<b>Background</b>\n",
      "\n",
      "Every particle is unique. They each have a different masses, lifetimes, decay methods and many other properties. \n",
      "\n",
      "To find the distance a particle travels in one lifetime, you need to know the lifetime of the particle and the speed of light. The formula to find the distance travelled in one lifetime is $ d= v*t. $ Where $v$ is the speed of light and $t$ is the lifetime of the particle. The speed of light is $3*10^8  m/s^2$. \n",
      "\n",
      "To find the distance travelled with different momenta you need to know, the particles momentum, mass, and lifetime. \n",
      "\n",
      "One concept in Einstein's special relativity is time dilation. This means moving clocks are measured to tick more slowly than an observer's \"stationary\" clock.  This concept needs to be kept in mind when solving for the distance travelled at high velocities. \n",
      "\n",
      "Some important equations you need to know are:\n",
      "\n",
      "$E = \\sqrt{(p*c)^2 + (m^2*c)^2}$\n",
      "\n",
      "$\\beta = \\frac{v}{c}$\n",
      "\n",
      "$\\frac{p}{E} = \\frac{\\beta}{c}$\n",
      "\n",
      "$\\gamma = \\frac{1}{\\sqrt{1-\\beta^2}}$\n",
      "\n",
      "$t = \\gamma*t_0$"
     ]
    },
    {
     "cell_type": "markdown",
     "metadata": {},
     "source": [
      "<b>Let's code!</b>\n",
      "\n",
      "Here is a sample code that creates a table of the life time and distance traveled in one lifetie for three different particles."
     ]
    },
    {
     "cell_type": "code",
     "collapsed": false,
     "input": [
      "particles = [\"B\",\"D\",\"J/Psi\"]\n",
      "\n",
      "lifetimes = [4,5,2]\n",
      "\n",
      "for p,l in zip(particles,lifetimes):\n",
      "    distance = 3e8*l\n",
      "    print \"%-5s lifetime=%f   distance=%f\" % (p,l,distance)"
     ],
     "language": "python",
     "metadata": {},
     "outputs": [
      {
       "output_type": "stream",
       "stream": "stdout",
       "text": [
        "B     lifetime=4.000000   distance=1200000000.000000\n",
        "D     lifetime=5.000000   distance=1500000000.000000\n",
        "J/Psi lifetime=2.000000   distance=600000000.000000\n"
       ]
      }
     ],
     "prompt_number": 1
    },
    {
     "cell_type": "markdown",
     "metadata": {},
     "source": [
      "<h3>Particles</h3>\n",
      "<ul>\n",
      "    <li>mu+/mu-\n",
      "    <li>tau+/tau-\n",
      "    <li>pi+/pi-\n",
      "    <li>pi0\n",
      "    <li>K+/K-\n",
      "    <li>K(short)\n",
      "    <li>K(long)\n",
      "    <li>D+/D-\n",
      "    <li>B+/B-\n",
      "    <li>B0\n",
      "    <li>J/Psi\n",
      "    <li>Upsilon(1S)\n",
      "</ul>"
     ]
    },
    {
     "cell_type": "markdown",
     "metadata": {},
     "source": [
      "<h2><font color=\"red\">Challenge!</font></h2>\n",
      "\n",
      "Finish the table for every particle listed above with an output of the particles name, the lifetime, the mass, the distance travelled in one lifetime, the momentum, and how far the travel in one lifetime given different momentum.  "
     ]
    },
    {
     "cell_type": "code",
     "collapsed": false,
     "input": [
      "particles = [\"B\",\"D\",\"J/Psi\"]\n",
      "lifetimes = [4,5,2]\n",
      "c = 3*(10**8)\n",
      "for p,l in zip(particles,lifetimes):\n",
      "    distance = c*l\n",
      "    print \"%-5s lifetime=%f   distance=%f\" % (p,l,distance)"
     ],
     "language": "python",
     "metadata": {},
     "outputs": [
      {
       "output_type": "stream",
       "stream": "stdout",
       "text": [
        "B     lifetime=4.000000   distance=1200000000.000000\n",
        "D     lifetime=5.000000   distance=1500000000.000000\n",
        "J/Psi lifetime=2.000000   distance=600000000.000000\n"
       ]
      }
     ],
     "prompt_number": 2
    },
    {
     "cell_type": "code",
     "collapsed": false,
     "input": [
      "#your code here\n",
      "import math\n",
      "particles = [\"mu+/mu-\",\"tau+/tau-\",\"pi+/pi-\",\"pi0\",\"K+/K-\",\"K(short)\",\"K(long)\",\"D+/D-\",\"B+/B-\",\"B0\",\"J/Psi\",\"Upsilon(1S)\"]\n",
      "lifetimes = [2.197*10**-6,2.906*10**-13,2.6*10**-8,8.4*10**-17,1.2380*10**-8,8.954*10**-11,5.116*10**-8,1.040*10**-12,\n",
      "             1.638*10**-12,1.530*10**-12,7.2*10**-21,1.21*10**-20]\n",
      "mass = [0.1056583715,1.77682,0.13957018,0.1349766,0.493677,0.497614,0.497614,1.86962,5.27915,5.27953,3.096916,9.46]\n",
      "c = 3*(10**8)\n",
      "for p,l,m in zip(particles,lifetimes,mass):\n",
      "    distance = c*l\n",
      "    P1 = 1\n",
      "    P2 = 10\n",
      "    P3 = 100\n",
      "    P4 = 8000\n",
      "    E = math.sqrt((P**2) + (m**2))\n",
      "    v = (P/E)*c\n",
      "    B = P/E\n",
      "    G = 1/(math.sqrt(1-(B**2)))\n",
      "    d = v*l*G\n",
      "    print p, \"lifetime=\",l,\"mass=\",m,\"distance=\",distance,\"P=\",P1,\"d=\",d\n",
      "    print p, \"lifetime=\",l,\"mass=\",m,\"distance=\",distance,\"P=\",P2,\"d=\",d\n",
      "    print p, \"lifetime=\",l,\"mass=\",m,\"distance=\",distance,\"P=\",P3,\"d=\",d\n",
      "    print p, \"lifetime=\",l,\"mass=\",m,\"distance=\",distance,\"P=\",P4,\"d=\",d\n",
      "### d is not correct need to have it loop over P1, P2, P3, P4 to get correct d"
     ],
     "language": "python",
     "metadata": {},
     "outputs": [
      {
       "output_type": "stream",
       "stream": "stdout",
       "text": [
        "mu+/mu- lifetime= 2.197e-06 mass= 0.1056583715 distance= 659.1 P= 1 d= 62380.2913715\n",
        "mu+/mu- lifetime= 2.197e-06 mass= 0.1056583715 distance= 659.1 P= 10 d= 62380.2913715\n",
        "mu+/mu- lifetime= 2.197e-06 mass= 0.1056583715 distance= 659.1 P= 100 d= 62380.2913715\n",
        "mu+/mu- lifetime= 2.197e-06 mass= 0.1056583715 distance= 659.1 P= 8000 d= 62380.2913715\n",
        "tau+/tau- lifetime= 2.906e-13 mass= 1.77682 distance= 8.718e-05 P= 1 d= 0.000490651838678\n",
        "tau+/tau- lifetime= 2.906e-13 mass= 1.77682 distance= 8.718e-05 P= 10 d= 0.000490651838678\n",
        "tau+/tau- lifetime= 2.906e-13 mass= 1.77682 distance= 8.718e-05 P= 100 d= 0.000490651838678\n",
        "tau+/tau- lifetime= 2.906e-13 mass= 1.77682 distance= 8.718e-05 P= 8000 d= 0.000490651838678\n",
        "pi+/pi- lifetime= 2.6e-08 mass= 0.13957018 distance= 7.8 P= 1 d= 558.858632983\n",
        "pi+/pi- lifetime= 2.6e-08 mass= 0.13957018 distance= 7.8 P= 10 d= 558.858632983\n",
        "pi+/pi- lifetime= 2.6e-08 mass= 0.13957018 distance= 7.8 P= 100 d= 558.858632983\n",
        "pi+/pi- lifetime= 2.6e-08 mass= 0.13957018 distance= 7.8 P= 8000 d= 558.858632983\n",
        "pi0 lifetime= 8.4e-17 mass= 0.1349766 distance= 2.52e-08 P= 1 d= 1.86699027832e-06\n",
        "pi0 lifetime= 8.4e-17 mass= 0.1349766 distance= 2.52e-08 P= 10 d= 1.86699027832e-06\n",
        "pi0 lifetime= 8.4e-17 mass= 0.1349766 distance= 2.52e-08 P= 100 d= 1.86699027832e-06\n",
        "pi0 lifetime= 8.4e-17 mass= 0.1349766 distance= 2.52e-08 P= 8000 d= 1.86699027832e-06\n",
        "K+/K- lifetime= 1.238e-08 mass= 0.493677 distance= 3.714 P= 1 d= 75.2313759807\n",
        "K+/K- lifetime= 1.238e-08 mass= 0.493677 distance= 3.714 P= 10 d= 75.2313759807\n",
        "K+/K- lifetime= 1.238e-08 mass= 0.493677 distance= 3.714 P= 100 d= 75.2313759807\n",
        "K+/K- lifetime= 1.238e-08 mass= 0.493677 distance= 3.714 P= 8000 d= 75.2313759807\n",
        "K(short) lifetime= 8.954e-11 mass= 0.497614 distance= 0.026862 P= 1 d= 0.539816001961\n",
        "K(short) lifetime= 8.954e-11 mass= 0.497614 distance= 0.026862 P= 10 d= 0.539816001961\n",
        "K(short) lifetime= 8.954e-11 mass= 0.497614 distance= 0.026862 P= 100 d= 0.539816001961\n",
        "K(short) lifetime= 8.954e-11 mass= 0.497614 distance= 0.026862 P= 8000 d= 0.539816001961\n",
        "K(long) lifetime= 5.116e-08 mass= 0.497614 distance= 15.348 P= 1 d= 308.431836725\n",
        "K(long) lifetime= 5.116e-08 mass= 0.497614 distance= 15.348 P= 10 d= 308.431836725\n",
        "K(long) lifetime= 5.116e-08 mass= 0.497614 distance= 15.348 P= 100 d= 308.431836725\n",
        "K(long) lifetime= 5.116e-08 mass= 0.497614 distance= 15.348 P= 8000 d= 308.431836725\n",
        "D+/D- lifetime= 1.04e-12 mass= 1.86962 distance= 0.000312 P= 1 d= 0.00166878830992\n",
        "D+/D- lifetime= 1.04e-12 mass= 1.86962 distance= 0.000312 P= 10 d= 0.00166878830992\n",
        "D+/D- lifetime= 1.04e-12 mass= 1.86962 distance= 0.000312 P= 100 d= 0.00166878830992\n",
        "D+/D- lifetime= 1.04e-12 mass= 1.86962 distance= 0.000312 P= 8000 d= 0.00166878830992\n",
        "B+/B- lifetime= 1.638e-12 mass= 5.27915 distance= 0.0004914 P= 1 d= 0.000930831667977\n",
        "B+/B- lifetime= 1.638e-12 mass= 5.27915 distance= 0.0004914 P= 10 d= 0.000930831667977\n",
        "B+/B- lifetime= 1.638e-12 mass= 5.27915 distance= 0.0004914 P= 100 d= 0.000930831667977\n",
        "B+/B- lifetime= 1.638e-12 mass= 5.27915 distance= 0.0004914 P= 8000 d= 0.000930831667977\n",
        "B0 lifetime= 1.53e-12 mass= 5.27953 distance= 0.000459 P= 1 d= 0.000869395571197\n",
        "B0 lifetime= 1.53e-12 mass= 5.27953 distance= 0.000459 P= 10 d= 0.000869395571197\n",
        "B0 lifetime= 1.53e-12 mass= 5.27953 distance= 0.000459 P= 100 d= 0.000869395571197\n",
        "B0 lifetime= 1.53e-12 mass= 5.27953 distance= 0.000459 P= 8000 d= 0.000869395571197\n",
        "J/Psi lifetime= 7.2e-21 mass= 3.096916 distance= 2.16e-12 P= 1 d= 6.97468061775e-12\n",
        "J/Psi lifetime= 7.2e-21 mass= 3.096916 distance= 2.16e-12 P= 10 d= 6.97468061775e-12\n",
        "J/Psi lifetime= 7.2e-21 mass= 3.096916 distance= 2.16e-12 P= 100 d= 6.97468061775e-12\n",
        "J/Psi lifetime= 7.2e-21 mass= 3.096916 distance= 2.16e-12 P= 8000 d= 6.97468061775e-12\n",
        "Upsilon(1S) lifetime= 1.21e-20 mass= 9.46 distance= 3.63e-12 P= 1 d= 3.83720930233e-12\n",
        "Upsilon(1S) lifetime= 1.21e-20 mass= 9.46 distance= 3.63e-12 P= 10 d= 3.83720930233e-12\n",
        "Upsilon(1S) lifetime= 1.21e-20 mass= 9.46 distance= 3.63e-12 P= 100 d= 3.83720930233e-12\n",
        "Upsilon(1S) lifetime= 1.21e-20 mass= 9.46 distance= 3.63e-12 P= 8000 d= 3.83720930233e-12\n"
       ]
      }
     ],
     "prompt_number": 21
    },
    {
     "cell_type": "code",
     "collapsed": false,
     "input": [],
     "language": "python",
     "metadata": {},
     "outputs": []
    }
   ],
   "metadata": {}
  }
 ]
}