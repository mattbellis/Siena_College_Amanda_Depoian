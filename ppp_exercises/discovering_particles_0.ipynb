{
 "metadata": {
  "name": "discovering_particles_0"
 },
 "nbformat": 3,
 "nbformat_minor": 0,
 "worksheets": [
  {
   "cells": [
    {
     "cell_type": "heading",
     "level": 1,
     "metadata": {},
     "source": [
      "How to discover new particles"
     ]
    },
    {
     "cell_type": "markdown",
     "metadata": {},
     "source": [
      "<h3>Learning goals</h3>\n",
      "<ul>\n",
      "    <li> Relativistic kinematics.\n",
      "    <li> Standard model particles.\n",
      "</ul>"
     ]
    },
    {
     "cell_type": "markdown",
     "metadata": {},
     "source": [
      "<b>Background</b>\n",
      "\n",
      "If you know the mass of a particle, most of the time you know <i>what that particle is</i>. However, there is no way to just build a single detector that gives you the mass. You need to be clever and make use of Special relativity, specifically <a href=\"http://en.wikipedia.org/wiki/Relativistic_mechanics\">relativistic kinematics</a>.\n",
      "\n",
      "To determine the mass ($m$) of a particle you need to know the 4-momenta of the particles ($\\mathbf{P}$) that are detected after the collision: the energy ($E$), the momentum in the x direction ($p_x$), the momentum in the y direction ($p_y$), the momentum in the z direction ($p_z$).\n",
      "\n",
      "$$\\mathbf{P} = (E,p_x,p_y,p_z)$$\n",
      "\n",
      "\n",
      "\\begin{equation*} m = \\sqrt{E^2-(p_x^2+p_y^2 + p_z^2)} \\end{equation*}\n"
     ]
    },
    {
     "cell_type": "markdown",
     "metadata": {},
     "source": [
      "<b>Let's code!</b>\n",
      "\n",
      "Here is some sample code that reads in data from a Monte Carlo simulation file from the CMS experiment. It loops over data from many different proton-proton collision. \n",
      "\n",
      "For each collision, you can get the 4-momentum of the jets, muons, electrons, and photons produced in these collisions. "
     ]
    },
    {
     "cell_type": "code",
     "collapsed": false,
     "input": [
      "inFile = open(\"mc_dy_1000collisions.dat\", \"r\")\n",
      "import cms_tools\n",
      "print \"Reading in the data....\"\n",
      "collisions = cms_tools.get_collisions(inFile)\n",
      "    \n",
      "print len(collisions)\n",
      "<b>Background</b>\n",
      "\n",
      "If you know the mass of a particle, most of the time you know <i>what that particle is</i>. However, there is no way to just build a single detector that gives you the mass. You need to be clever and make use of Special relativity, specifically <a href=\"http://en.wikipedia.org/wiki/Relativistic_mechanics\">relativistic kinematics</a>.\n",
      "\n",
      "To determine the mass ($m$) of a particle you need to know the 4-momenta of the particles ($\\mathbf{P}$) that are detected after the collision: the energy ($E$), the momentum in the x direction ($p_x$), the momentum in the y direction ($p_y$), the momentum in the z direction ($p_z$).\n",
      "\n",
      "$$\\mathbf{P} = (E,p_x,p_y,p_z)$$\n",
      "\n",
      "\n",
      "\\begin{equation*} m = \\sqrt{E^2-(p_x^2+p_y^2 + p_z^2)} \\end{equation*}\n",
      "\n",
      "count = 0\n",
      "for collision in collisions:\n",
      "    \n",
      "    jets,muons,electrons,photons,met = collision\n",
      "    \n",
      "    count += 1\n",
      "    \n",
      "    # To access the information about the particles.\n",
      "\n",
      "    for jet in jets:\n",
      "        energy,px,py,pz,btag = jet\n",
      "\n",
      "    for muon in muons:\n",
      "        energy,px,py,pz,charge = muon\n",
      "\n",
      "    for electron in electrons:\n",
      "        energy,px,py,pz,charge = electron\n",
      "         \n",
      "    for photon in photons:\n",
      "        energy,px,py,pz = photon\n",
      "         \n",
      "     # For this exercise we will not work with MET (Missing Energy in the Transverse plane)\n",
      "                "
     ],
     "language": "python",
     "metadata": {},
     "outputs": [
      {
       "output_type": "stream",
       "stream": "stdout",
       "text": [
        "Reading in the data....\n",
        "1000\n"
       ]
      }
     ],
     "prompt_number": 8
    },
    {
     "cell_type": "markdown",
     "metadata": {},
     "source": [
      "<h2><font color=\"red\">Challenge!</font></h2>\n",
      "\n",
      "Copy this sample code and use it to calculate the mass of the muons. Make a histogram of this quantity. \n",
      "\n",
      "<i>Hint!</i>\n",
      "\n",
      "Make sure you do this for all the muons! Each collision can produce differing numbers of muons, so take care when you code this up."
     ]
    },
    {
     "cell_type": "markdown",
     "metadata": {},
     "source": [
      "Your histogram should look something like the following sketch. The value of the peak, should be the mass of the muon. <a href=\"http://en.wikipedia.org/wiki/Muon\">Check your answer!</a> "
     ]
    },
    {
     "cell_type": "code",
     "collapsed": false,
     "input": [
      "# FIGURE OF NAPKIN SKETCH OF MUON!"
     ],
     "language": "python",
     "metadata": {},
     "outputs": [],
     "prompt_number": 10
    },
    {
     "cell_type": "code",
     "collapsed": false,
     "input": [
      "# Your code here\n",
      "inFile = open(\"mc_dy_1000collisions.dat\", \"r\")\n",
      "import cms_tools\n",
      "print \"Reading in the data....\"\n",
      "collisions = cms_tools.get_collisions(inFile)\n",
      "    \n",
      "print len(collisions)\n",
      "\n",
      "count = 0\n",
      "mass = []\n",
      "\n",
      "for collision in collisions:\n",
      "    \n",
      "    jets,muons,electrons,photons,met = collision\n",
      "    \n",
      "    count += 1\n",
      "    \n",
      "    # To access the information about the particles.\n",
      "    for muon in muons:\n",
      "        energy,px,py,pz,charge = muon\n",
      "        masssq = energy*energy  - (px*px + py*py + pz*pz)\n",
      "        if masssq > 0.0:\n",
      "            mass.append(np.sqrt(masssq$$p_{\\rm x parent} = p_{\\rm x child 0} + p_{\\rm x child 1} + p_{\\rm x child 2} + ...$$\n",
      "))\n",
      "     # For this exercise we will not work with MET (Missing Energy in the Transverse plane)\n",
      "                \n",
      "plt.figure()\n",
      "plt.hist(mass,bins=100)\n"
     ],
     "language": "python",
     "metadata": {},
     "outputs": [
      {
       "output_type": "stream",
       "stream": "stdout",
       "text": [
        "Reading in the data....\n",
        "1000\n"
       ]
      },
      {
       "output_type": "pyout",
       "prompt_number": 17,
       "text": [
        "(array([  1.,   2.,   3.,   1.,   3.,   3.,   3.,   4.,   6.,   7.,   2.,\n",
        "         9.,  11.,   9.,   9.,  11.,  11.,  16.,  17.,  30.,  18.,  35.,\n",
        "        46.,  46.,  54.,  62.,  75.,  66.,  93.,  82.,  85.,  88.,  77.,\n",
        "        95.,  77.,  59.,  44.,  46.,  45.,  33.,  21.,  21.,  20.,  17.,\n",
        "        11.,   9.,  16.,   6.,   5.,   8.,   8.,   3.,   2.,   5.,   2.,\n",
        "         1.,   2.,   0.,   1.,   0.,   1.,   0.,   0.,   1.,   2.,   0.,\n",
        "         0.,   0.,   0.,   0.,   0.,   0.,   0.,   0.,   0.,   0.,   0.,\n",
        "         0.,   0.,   0.,   0.,   0.,   0.,   0.,   0.,   0.,   0.,   0.,\n",
        "         0.,   0.,   0.,   0.,   0.,   0.,   0.,   0.,   0.,   0.,   0.,\n",
        "         1.]),\n",
        " array([ 0.00768115,  0.01097087,  0.0142606 ,  0.01755033,  0.02084005,\n",
        "        0.02412978,  0.02741951,  0.03070924,  0.03399896,  0.03728869,\n",
        "        0.04057842,  0.04386814,  0.04715787,  0.0504476 ,  0.05373733,\n",
        "        0.05702705,  0.06031678,  0.06360651,  0.06689623,  0.07018596,\n",
        "        0.07347569,  0.07676542,  0.08005514,  0.08334487,  0.0866346 ,\n",
        "        0.08992432,  0.09321405,  0.09650378,  0.09979351,  0.10308323,\n",
        "        0.10637296,  0.10966269,  0.11295241,  0.11624214,  0.11953187,\n",
        "        0.12282159,  0.12611132,  0.12940105,  0.13269078,  0.1359805 ,\n",
        "        0.13927023,  0.14255996,  0.14584968,  0.14913941,  0.15242914,\n",
        "        0.15571887,  0.15900859,  0.16229832,  0.16558805,  0.16887777,\n",
        "        0.1721675 ,  0.17545723,  0.17874696,  0.18203668,  0.18532641,\n",
        "        0.18861614,  0.19190586,  0.19519559,  0.19848532,  0.20177505,\n",
        "        0.20506477,  0.2083545 ,  0.21164423,  0.21493395,  0.21822368,\n",
        "        0.22151341,  0.22480314,  0.22809286,  0.23138259,  0.23467232,\n",
        "        0.23796204,  0.24125177,  0.2445415 ,  0.24783123,  0.25112095,\n",
        "        0.25441068,  0.25770041,  0.26099013,  0.26427986,  0.26756959,\n",
        "        0.27085932,  0.27414904,  0.27743877,  0.2807285 ,  0.28401822,\n",
        "        0.28730795,  0.29059768,  0.29388741,  0.29717713,  0.30046686,\n",
        "        0.30375659,  0.30704631,  0.31033604,  0.31362577,  0.3169155 ,\n",
        "        0.32020522,  0.32349495,  0.32678468,  0.3300744 ,  0.33336413,\n",
        "        0.33665386]),\n",
        " <a list of 100 Patch objects>)"
       ]
      },
      {
       "output_type": "display_data",
       "png": "[encoded data removed]"
      }
     ],
     "prompt_number": 17
    },
    {
     "cell_type": "markdown",
     "metadata": {},
     "source": [
      "<b>Background</b>\n",
      "\n",
      "Some particles are very unstable and decay (turn into) to two or more other particles. In fact, they can decay so quickly, that they never interact with your detector! Yikes!\n",
      "\n",
      "However, we can reconstruct the parent particle (sometimes referred to as <b>the initial state particle</b>) and it's 4-momentum by adding the 4-momenta of the child particles (sometimes referred to as <b>the decay products</b>). \n",
      "\n",
      "$$\\mathbf{P_{\\rm parent}} = \\mathbf{P_{\\rm child 0}} + \\mathbf{P_{\\rm child 1}} + \\mathbf{P_{\\rm child 2}} + ...$$\n",
      "\n",
      "which breaks down into...\n",
      "\n",
      "$$E_{\\rm parent} = E_{\\rm child 0} + E_{\\rm child 1} + E_{\\rm child 2} + ...$$\n",
      "\n",
      "$$p_{\\rm x parent} = p_{\\rm x child 0} + p_{\\rm x child 1} + p_{\\rm x child 2} + ...$$\n",
      "\n",
      "$$p_{\\rm y parent} = p_{\\rm y child 0} + p_{\\rm y child 1} + p_{\\rm y child 2} + ...$$\n",
      "\n",
      "$$p_{\\rm z parent} = p_{\\rm z child 0} + p_{\\rm y child 1} + p_{\\rm z child 2} + ...$$\n"
     ]
    },
    {
     "cell_type": "markdown",
     "metadata": {},
     "source": [
      "<h2><font color=\"red\">Challenge!</font></h2>\n",
      "\n",
      "Again, starting with the same sample code, add the 4-vectors of the muons and determine the mass and type of the parent particle. Make a histogram of the mass. "
     ]
    },
    {
     "cell_type": "code",
     "collapsed": false,
     "input": [
      "inFile = open(\"mc_dy_1000collisions.dat\", \"r\")\n",
      "import cms_tools\n",
      "print \"Reading in the data....\"\n",
      "collisions = cms_tools.get_collisions(inFile)\n",
      "    \n",
      "print len(collisions)\n",
      "\n",
      "count = 0\n",
      "for collision in collisions:\n",
      "    \n",
      "    jets,muons,electrons,photons,met = collision\n",
      "    \n",
      "    count += 1\n",
      "    \n",
      "# To find the mass of a muon\n",
      "    \n",
      "    for muon in muons:\n",
      "        energy,px,py,pz,charge = muon\n",
      "         \n",
      "# To find the 3 combinations of jets and the mass of the paricle that these jets came from\n",
      "    \n",
      "    numjets = []\n",
      "    number = len(jets)\n",
      "    numjets.append(number)\n",
      "    \n",
      "    for i in range (0,number):\n",
      "        for j in range (i+1,number):\n",
      "            for k in range (j+1, number):\n",
      "                \n",
      "                energy0,px0,py0,pz0,btag0 = jets[i]\n",
      "                energy1,px1,py1,pz1,btag1 = jets[j]\n",
      "                energy2,px2,py2,pz2,btag2 = jets[k]\n",
      "                "
     ],
     "language": "python",
     "metadata": {},
     "outputs": []
    },
    {
     "cell_type": "code",
     "collapsed": false,
     "input": [],
     "language": "python",
     "metadata": {},
     "outputs": []
    },
    {
     "cell_type": "code",
     "collapsed": false,
     "input": [],
     "language": "python",
     "metadata": {},
     "outputs": [],
     "prompt_number": "*"
    }
   ],
   "metadata": {}
  }
 ]
}