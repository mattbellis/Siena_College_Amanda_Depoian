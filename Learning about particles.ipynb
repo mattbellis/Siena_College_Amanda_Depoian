{
 "metadata": {
  "name": ""
 },
 "nbformat": 3,
 "nbformat_minor": 0,
 "worksheets": [
  {
   "cells": [
    {
     "cell_type": "heading",
     "level": 2,
     "metadata": {},
     "source": [
      "Learning about particles and their properties."
     ]
    },
    {
     "cell_type": "markdown",
     "metadata": {},
     "source": [
      "To find the distance a particle travels in one lifetime, you need to know the lifetime of the particle and the speed of light. \n",
      "\n",
      "The speed of light is $3*10^8$. \n",
      "\n",
      "The formula to find the distance travelled in one lifetime is $ d= v*t. $ Where $v$ is the speed of light and $t$ is the lifetime of the particle."
     ]
    },
    {
     "cell_type": "heading",
     "level": 6,
     "metadata": {},
     "source": [
      "    Example:"
     ]
    },
    {
     "cell_type": "code",
     "collapsed": false,
     "input": [
      "import math\n",
      "t0 = lifetime = 2.2*(10**-6)\n",
      "v = c = 3 * (10**8)\n",
      "d = v * t0\n",
      "print \"The distance travelled in one lifetime is \", d\n"
     ],
     "language": "python",
     "metadata": {},
     "outputs": [
      {
       "output_type": "stream",
       "stream": "stdout",
       "text": [
        "The distance travelled in one lifetime is  660.0\n"
       ]
      }
     ],
     "prompt_number": 8
    },
    {
     "cell_type": "markdown",
     "metadata": {},
     "source": [
      "To find the distance travelled with different momenta you need to know, the particles momentum, mass, and lifetime. \n",
      "\n",
      "One concept in Einstein's special relativity is time dilation. This means moving clocks are measured to tick more slowly than an observer's \"stationary\" clock.  This concept needs to be kept in mind when solving for the distance travelled at high velocities. \n",
      "\n",
      "Some important equations you need to know are:\n",
      "\n",
      "$E = \\sqrt{p^2 + m^2}$\n",
      "\n",
      "$\\beta = \\frac{v}{c}$\n",
      "\n",
      "$\\frac{p}{E} = \\frac{\\beta}{c}$\n",
      "\n",
      "$\\gamma = \\frac{1}{\\sqrt{1-\\beta^2}}$\n",
      "\n",
      "$t = \\gamma*t_0$"
     ]
    },
    {
     "cell_type": "heading",
     "level": 6,
     "metadata": {},
     "source": [
      "    Example:"
     ]
    },
    {
     "cell_type": "code",
     "collapsed": false,
     "input": [
      "m = 0.10566\n",
      "p = 10\n",
      "E = math.sqrt(p**2 + m**2)\n",
      "v = (p/E)*c\n",
      "B = p/E\n",
      "G = 1/(math.sqrt(1-B**2))\n",
      "t = G*t0\n",
      "d = v*t\n",
      "print \"The distance travelled in one lifetime with the momentum equal to 10 GeV/c is \", d"
     ],
     "language": "python",
     "metadata": {},
     "outputs": [
      {
       "output_type": "stream",
       "stream": "stdout",
       "text": [
        "The distance travelled in one lifetime with the momentum equal to 10 GeV/c is  62464.5088018\n"
       ]
      }
     ],
     "prompt_number": 15
    },
    {
     "cell_type": "code",
     "collapsed": false,
     "input": [],
     "language": "python",
     "metadata": {},
     "outputs": [],
     "prompt_number": 9
    }
   ],
   "metadata": {}
  }
 ]
}