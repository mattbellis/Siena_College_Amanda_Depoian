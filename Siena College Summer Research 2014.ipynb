{
 "metadata": {
  "name": ""
 },
 "nbformat": 3,
 "nbformat_minor": 0,
 "worksheets": [
  {
   "cells": [
    {
     "cell_type": "heading",
     "level": 2,
     "metadata": {},
     "source": [
      "Standard Deviation"
     ]
    },
    {
     "cell_type": "markdown",
     "metadata": {},
     "source": [
      "The standard deviation can be found by taking the first value and subtracting the average of all the values.  Then you square that quatity. You do this for all your values.  Add them all together, and then take the square root. \n",
      "\n",
      "\n",
      "\n",
      "\n",
      "\\begin{equation*} stddev = \\sqrt{(x_1 - meanvalue)^2)+(x_2 - meanvalue)^2)+ ... +(x_n - meanvalue)^2)} \\end{equation*}\n"
     ]
    },
    {
     "cell_type": "code",
     "collapsed": false,
     "input": [
      "import numpy as np\n",
      "y1 = np.array([100,46,20,11,7,2,1,1,0])\n",
      "y2 = np.array([100,48,25,13,7,2,1,1,0])\n",
      "y3 = np.array([100,51,27,14,7,2,1,0,0])\n",
      "y4 = np.array([100,52,30,10,5,2,1,1,0])\n",
      "y5 = np.array([100,59,28,12,4,1,1,1,0])\n",
      "\n",
      "ymean = (y1+y2+y3+y4+y5)/5.0\n",
      "ystddev1 = (y1-ymean)**2+(y2-ymean)**2+(y3-ymean)**2+(y4-ymean)**2+(y5-ymean)**2\n",
      "ystddev1 = np.sqrt(ystddev1)\n",
      "print \"The standard deviation for each value is: \"\n",
      "print ystddev1"
     ],
     "language": "python",
     "metadata": {},
     "outputs": [
      {
       "output_type": "stream",
       "stream": "stdout",
       "text": [
        "The standard deviation for each value is: \n",
        "[ 0.          9.93981891  7.61577311  3.16227766  2.82842712  0.89442719\n",
        "  0.          0.89442719  0.        ]\n"
       ]
      }
     ],
     "prompt_number": 1
    },
    {
     "cell_type": "markdown",
     "metadata": {},
     "source": [
      "A more effcient way to find the stardard deviation if you have many values is to create a loop."
     ]
    },
    {
     "cell_type": "code",
     "collapsed": false,
     "input": [
      "ymean = (y1+y2+y3+y4+y5)/5.0\n",
      "ystddev2 = 0.0\n",
      "for y in [y1,y2,y3,y4,y5]:\n",
      "    ystddev2 += (y-ymean)**2\n",
      "ystddev2 = np.sqrt(ystddev2)\n",
      "print \"The standard deviation for each value is: \"\n",
      "print ystddev2"
     ],
     "language": "python",
     "metadata": {},
     "outputs": [
      {
       "output_type": "stream",
       "stream": "stdout",
       "text": [
        "The standard deviation for each value is: \n",
        "[ 0.          9.93981891  7.61577311  3.16227766  2.82842712  0.89442719\n",
        "  0.          0.89442719  0.        ]\n"
       ]
      }
     ],
     "prompt_number": 2
    },
    {
     "cell_type": "markdown",
     "metadata": {},
     "source": [
      "As you can see either way you compute the stanard deviation you recieve the same answer."
     ]
    },
    {
     "cell_type": "heading",
     "level": 2,
     "metadata": {},
     "source": [
      "$\\chi^2$"
     ]
    },
    {
     "cell_type": "markdown",
     "metadata": {},
     "source": [
      "Chi sqaure is a statistical test used to comapare observed data with the expected data of a specific hypothosis. Chi square is the sum of the squared difference between the observed ($y(x_i)$) and the expected ($y_i$) data , divided by the expected data in all possible categories ($\\theta_{y_i}^2$). \n",
      "\n",
      "\\begin{equation*} \\chi^2  = \\sum_{i} \\frac{(y(x_i) - y_i)^2}{ \\theta_{y_i}^2} \\end{equation*}\n",
      "\n",
      "Chi square can be used to find the best fit line of data points. "
     ]
    },
    {
     "cell_type": "code",
     "collapsed": false,
     "input": [
      "import pylab\n",
      "xtot = np.array([0,1,2,3,4,5,6,7,8])\n",
      "xfit = np.linspace(0,8,1000)\n",
      "\n",
      "\n",
      "# By setting the error equal to 1 when it is equal to 0 allows you to use the standard deviation and not divide by zero. \n",
      "err = ystddev2\n",
      "err[err==0] = 1.0\n",
      "\n",
      "# This sets values to be compared with. \n",
      "bestN0 = -999\n",
      "bestk = -999\n",
      "minchi2 = 10000000000000000\n",
      "\n",
      "# The range is set by looking at the data and making a guess at what the value should be around. \n",
      "for k in np.arange(-2,2,.01):\n",
      "\n",
      "    for N0 in np.arange (10,100,0.1):\n",
      "        \n",
      "# This is the equation of the line we will be fitting.\n",
      "# We will be using chi square to find the best values for N0 and k. \n",
      "\n",
      "        yA = N0*np.exp(k*xtot)\n",
      "        chi2 = sum(((yA - ymean)/err)**2)\n",
      "\n",
      "        if chi2 < minchi2:\n",
      "            minchi2 = chi2\n",
      "\n",
      "            bestN0 = N0\n",
      "            bestk = k\n",
      "            \n",
      "\n",
      "\n",
      "print (bestN0,bestk)\n",
      "\n",
      "fig = pylab.figure()\n",
      "pylab.errorbar(xtot,ymean,yerr=ystddev2,fmt='o',color='r')\n",
      "yfit = bestN0*np.exp(bestk*xfit)\n",
      "pylab.plot(xfit,yfit)\n",
      "pylab.show()"
     ],
     "language": "python",
     "metadata": {},
     "outputs": [],
     "prompt_number": "*"
    },
    {
     "cell_type": "code",
     "collapsed": false,
     "input": [],
     "language": "python",
     "metadata": {},
     "outputs": []
    }
   ],
   "metadata": {}
  }
 ]
}